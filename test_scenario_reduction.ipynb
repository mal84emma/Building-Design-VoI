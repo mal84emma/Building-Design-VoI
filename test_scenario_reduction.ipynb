{
 "cells": [
  {
   "cell_type": "markdown",
   "metadata": {},
   "source": [
    "# Test building load profile scenario reduction"
   ]
  },
  {
   "cell_type": "code",
   "execution_count": 1,
   "metadata": {},
   "outputs": [],
   "source": [
    "import os\n",
    "import numpy as np\n",
    "import pandas as pd\n",
    "import itertools\n",
    "from scenarioReducer import Fast_forward"
   ]
  },
  {
   "cell_type": "code",
   "execution_count": 2,
   "metadata": {},
   "outputs": [],
   "source": [
    "# set up params\n",
    "years = list(range(2012, 2018))\n",
    "ids = [0, 4, 8, 19, 25, 40, 58, 102, 104, 118]\n",
    "\n",
    "data_dir = os.path.join('data','processed')\n",
    "building_file_pattern = 'ly_{id}-{year}.csv'\n",
    "\n",
    "n_buildings = 8"
   ]
  },
  {
   "cell_type": "code",
   "execution_count": 3,
   "metadata": {},
   "outputs": [],
   "source": [
    "# sample vectors of building-years (scnearios)\n",
    "np.random.seed(0)\n",
    "n_samples = 10000\n",
    "scenarios = np.array([list(zip(np.random.choice(ids, n_buildings),np.random.choice(years, n_buildings))) for _ in range(n_samples)])"
   ]
  },
  {
   "cell_type": "code",
   "execution_count": 4,
   "metadata": {},
   "outputs": [],
   "source": [
    "# load building-year load profiles once to reduce I/O time\n",
    "load_profiles = {\n",
    "    f'{building_id}-{year}': pd.read_csv(\n",
    "        os.path.join(data_dir, building_file_pattern.format(id=building_id, year=year)),\n",
    "        usecols=['Equipment Electric Power [kWh]']\n",
    "        )['Equipment Electric Power [kWh]'].to_numpy()\\\n",
    "            for building_id, year in itertools.product(ids, years)\n",
    "}"
   ]
  },
  {
   "cell_type": "code",
   "execution_count": 5,
   "metadata": {},
   "outputs": [],
   "source": [
    "def get_scenario_stats(building_year_vector, load_profiles):\n",
    "    \"\"\"Compute standard deviation and peak of aggregate load for a given scenario,\n",
    "    i.e. set of building-year profiles (profiles for each building in scenario).\"\"\"\n",
    "\n",
    "    aggregate_load = np.sum([load_profiles[f'{building_id}-{year}'] for building_id, year in building_year_vector], axis=0)\n",
    "\n",
    "    return np.std(aggregate_load), np.max(aggregate_load)"
   ]
  },
  {
   "cell_type": "code",
   "execution_count": 6,
   "metadata": {},
   "outputs": [],
   "source": [
    "def rescale_array(a, invert=False, bounds=None):\n",
    "    assert not (invert and bounds is None), 'bounds must be provided when inverting scaling.'\n",
    "    old_bounds = (a.min(), a.max()) if not invert else (0, 1)\n",
    "    new_bounds = (0, 1) if not invert else bounds\n",
    "    return np.interp(a, old_bounds, new_bounds)"
   ]
  },
  {
   "cell_type": "code",
   "execution_count": 7,
   "metadata": {},
   "outputs": [],
   "source": [
    "scenario_stats = np.array([get_scenario_stats(scenario, load_profiles) for scenario in scenarios])"
   ]
  },
  {
   "cell_type": "code",
   "execution_count": 8,
   "metadata": {},
   "outputs": [
    {
     "name": "stdout",
     "output_type": "stream",
     "text": [
      "[[ 215.49388094 1609.7       ]\n",
      " [ 279.10132837 1986.9       ]\n",
      " [ 289.17318987 1975.5       ]\n",
      " ...\n",
      " [ 335.80176959 1933.        ]\n",
      " [ 273.04669928 1738.9       ]\n",
      " [ 182.27858895 1530.8       ]]\n"
     ]
    }
   ],
   "source": [
    "print(scenario_stats)"
   ]
  },
  {
   "cell_type": "code",
   "execution_count": 9,
   "metadata": {},
   "outputs": [
    {
     "name": "stdout",
     "output_type": "stream",
     "text": [
      "[(91.85282087503722, 461.89710322384803), (1079.7, 2779.7000000000003)]\n"
     ]
    }
   ],
   "source": [
    "bounds = [(np.min(scenario_stats[:,0]), np.max(scenario_stats[:,0])),(np.min(scenario_stats[:,1]), np.max(scenario_stats[:,1]))]\n",
    "print(bounds)"
   ]
  },
  {
   "cell_type": "code",
   "execution_count": 10,
   "metadata": {},
   "outputs": [],
   "source": [
    "# rescale scenario stats to range [-1,1] for each exis\n",
    "scaled_scenario_stats = np.array([rescale_array(scenario_stats[:,0]), rescale_array(scenario_stats[:,1])]).T"
   ]
  },
  {
   "cell_type": "markdown",
   "metadata": {},
   "source": [
    "## Perform scenario reduction"
   ]
  },
  {
   "cell_type": "code",
   "execution_count": 11,
   "metadata": {},
   "outputs": [],
   "source": [
    "probs = np.ones(shape=n_samples)/n_samples # uniform probability of scenarios\n",
    "num_reduced_scenarios = 10\n",
    "\n",
    "FFreducer = Fast_forward(scaled_scenario_stats.T, probs)"
   ]
  },
  {
   "cell_type": "code",
   "execution_count": 12,
   "metadata": {},
   "outputs": [],
   "source": [
    "reduced_scenario_stats, reduced_probs, reduced_indices = FFreducer.reduce(distance=1,n_scenarios=num_reduced_scenarios)\n",
    "# use 1-norm distance metric for reduction\n",
    "reduced_scenario_stats = reduced_scenario_stats.T\n",
    "reduced_scenarios = scenarios[reduced_indices]"
   ]
  },
  {
   "cell_type": "code",
   "execution_count": 13,
   "metadata": {},
   "outputs": [],
   "source": [
    "rescaled_reduced_scenario_stats = np.array([rescale_array(reduced_scenario_stats[:,0], invert=True, bounds=bounds[0]), rescale_array(reduced_scenario_stats[:,1], invert=True, bounds=bounds[1])]).T"
   ]
  },
  {
   "cell_type": "code",
   "execution_count": 14,
   "metadata": {},
   "outputs": [],
   "source": [
    "# check reduced scenarios have been accessed correctly\n",
    "assert np.isclose(rescaled_reduced_scenario_stats, scenario_stats[reduced_indices]).all()"
   ]
  },
  {
   "cell_type": "code",
   "execution_count": 15,
   "metadata": {},
   "outputs": [
    {
     "name": "stdout",
     "output_type": "stream",
     "text": [
      "[[ 257.62163361 1734.2       ]\n",
      " [ 316.5369086  1938.4       ]\n",
      " [ 200.85413096 1533.4       ]\n",
      " [ 361.65929966 2072.6       ]\n",
      " [ 230.090032   1641.2       ]\n",
      " [ 289.55366208 1794.4       ]\n",
      " [ 163.95969852 1393.8       ]\n",
      " [ 264.74788101 1906.1       ]\n",
      " [ 222.9136756  1768.5       ]\n",
      " [ 296.12537073 2118.1       ]]\n"
     ]
    }
   ],
   "source": [
    "print(rescaled_reduced_scenario_stats)"
   ]
  },
  {
   "cell_type": "code",
   "execution_count": 16,
   "metadata": {},
   "outputs": [
    {
     "name": "stdout",
     "output_type": "stream",
     "text": [
      "[[[  25 2013]\n",
      "  [  19 2013]\n",
      "  [ 118 2015]\n",
      "  [ 102 2012]\n",
      "  [  19 2015]\n",
      "  [   0 2012]\n",
      "  [  40 2012]\n",
      "  [   0 2015]]\n",
      "\n",
      " [[ 102 2015]\n",
      "  [ 118 2016]\n",
      "  [ 104 2015]\n",
      "  [   8 2013]\n",
      "  [ 102 2017]\n",
      "  [   8 2015]\n",
      "  [   4 2013]\n",
      "  [   4 2015]]\n",
      "\n",
      " [[  40 2014]\n",
      "  [ 118 2015]\n",
      "  [ 104 2015]\n",
      "  [  58 2012]\n",
      "  [  25 2016]\n",
      "  [  25 2016]\n",
      "  [   8 2014]\n",
      "  [  58 2014]]\n",
      "\n",
      " [[ 102 2017]\n",
      "  [   0 2012]\n",
      "  [  19 2012]\n",
      "  [   0 2015]\n",
      "  [ 102 2015]\n",
      "  [   8 2013]\n",
      "  [   0 2014]\n",
      "  [   0 2017]]\n",
      "\n",
      " [[  25 2012]\n",
      "  [  19 2012]\n",
      "  [   4 2017]\n",
      "  [  58 2014]\n",
      "  [ 104 2014]\n",
      "  [  25 2016]\n",
      "  [   0 2012]\n",
      "  [  19 2012]]\n",
      "\n",
      " [[   0 2017]\n",
      "  [   4 2016]\n",
      "  [  19 2017]\n",
      "  [  58 2017]\n",
      "  [   4 2014]\n",
      "  [  58 2013]\n",
      "  [   0 2013]\n",
      "  [ 118 2014]]\n",
      "\n",
      " [[  40 2013]\n",
      "  [  40 2014]\n",
      "  [  40 2017]\n",
      "  [  25 2014]\n",
      "  [  58 2017]\n",
      "  [   4 2017]\n",
      "  [  25 2015]\n",
      "  [  58 2017]]\n",
      "\n",
      " [[ 118 2014]\n",
      "  [  19 2016]\n",
      "  [  25 2015]\n",
      "  [ 104 2014]\n",
      "  [   0 2014]\n",
      "  [ 102 2014]\n",
      "  [ 118 2016]\n",
      "  [ 104 2016]]\n",
      "\n",
      " [[  25 2012]\n",
      "  [  25 2013]\n",
      "  [  40 2017]\n",
      "  [ 118 2012]\n",
      "  [  25 2017]\n",
      "  [  19 2017]\n",
      "  [   4 2012]\n",
      "  [  19 2013]]\n",
      "\n",
      " [[   0 2017]\n",
      "  [  25 2017]\n",
      "  [ 118 2015]\n",
      "  [   8 2013]\n",
      "  [  25 2014]\n",
      "  [  40 2017]\n",
      "  [ 118 2015]\n",
      "  [  25 2016]]]\n"
     ]
    }
   ],
   "source": [
    "print(scenarios[reduced_indices])"
   ]
  },
  {
   "cell_type": "code",
   "execution_count": null,
   "metadata": {},
   "outputs": [],
   "source": []
  }
 ],
 "metadata": {
  "kernelspec": {
   "display_name": "BD-VOI",
   "language": "python",
   "name": "python3"
  },
  "language_info": {
   "codemirror_mode": {
    "name": "ipython",
    "version": 3
   },
   "file_extension": ".py",
   "mimetype": "text/x-python",
   "name": "python",
   "nbconvert_exporter": "python",
   "pygments_lexer": "ipython3",
   "version": "3.8.19"
  }
 },
 "nbformat": 4,
 "nbformat_minor": 2
}
