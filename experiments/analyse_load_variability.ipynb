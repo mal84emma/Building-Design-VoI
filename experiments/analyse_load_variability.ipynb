{
 "cells": [
  {
   "cell_type": "markdown",
   "metadata": {},
   "source": [
    "# Analyse year-on-year variability of annual energy demand"
   ]
  },
  {
   "cell_type": "code",
   "execution_count": null,
   "metadata": {},
   "outputs": [],
   "source": [
    "# Hack to emulate running notebook from root directory.\n",
    "import os\n",
    "os.chdir('..')"
   ]
  },
  {
   "cell_type": "code",
   "execution_count": null,
   "metadata": {},
   "outputs": [],
   "source": [
    "import os\n",
    "import json\n",
    "import numpy as np\n",
    "import pandas as pd\n",
    "import matplotlib.pyplot as plt\n",
    "import seaborn as sns"
   ]
  },
  {
   "cell_type": "code",
   "execution_count": null,
   "metadata": {},
   "outputs": [],
   "source": [
    "data_dir = os.path.join('data','from-database')\n",
    "bname_pattern = 'UCam_Building_b%s.csv'\n",
    "outname_pattern = 'ly_{building_id}-{year}.csv'\n",
    "\n",
    "years = list(range(2012, 2018))\n",
    "building_ids = [0, 4, 8, 19, 25, 40, 58, 102, 104] # 118"
   ]
  },
  {
   "cell_type": "code",
   "execution_count": null,
   "metadata": {},
   "outputs": [],
   "source": [
    "hours_per_year = 24*365\n",
    "timestamps = pd.read_csv(os.path.join(data_dir, 'timestamps.csv'))\n",
    "timestamps['Timestamp (UTC)'] = pd.to_datetime(timestamps['Timestamp (UTC)'])"
   ]
  },
  {
   "cell_type": "code",
   "execution_count": null,
   "metadata": {},
   "outputs": [],
   "source": [
    "elec_ann_loads = {}\n",
    "heat_ann_loads = {}\n",
    "\n",
    "for b_id in building_ids:\n",
    "    load_data = pd.read_csv(os.path.join(data_dir, bname_pattern % b_id), header=0)\n",
    "\n",
    "    elec_ann_loads[b_id] = []\n",
    "    heat_ann_loads[b_id] = []\n",
    "\n",
    "    for year in years:\n",
    "        year_first_idx = timestamps.index[timestamps['Timestamp (UTC)'].dt.year == year].min()\n",
    "\n",
    "        elec_load = load_data.loc[year_first_idx:year_first_idx+hours_per_year-1, 'Equipment Electric Power [kWh]'].to_numpy()\n",
    "        heat_load = load_data.loc[year_first_idx:year_first_idx+hours_per_year-1, 'Heating Load [kWh]'].to_numpy()\n",
    "\n",
    "        elec_ann_loads[b_id].append(np.sum(elec_load))\n",
    "        heat_ann_loads[b_id].append(np.sum(heat_load))"
   ]
  },
  {
   "cell_type": "code",
   "execution_count": null,
   "metadata": {},
   "outputs": [],
   "source": [
    "norm_elec_ann_loads = {k: np.array(v)/np.mean(v) for k,v in elec_ann_loads.items()}\n",
    "norm_heat_ann_loads = {k: np.array(v)/np.mean(v) for k,v in heat_ann_loads.items()}"
   ]
  },
  {
   "cell_type": "code",
   "execution_count": null,
   "metadata": {},
   "outputs": [],
   "source": [
    "print(norm_elec_ann_loads)\n",
    "print(norm_heat_ann_loads)"
   ]
  },
  {
   "cell_type": "code",
   "execution_count": null,
   "metadata": {},
   "outputs": [],
   "source": [
    "all_norm_elec_ann_loads = np.array([v for k,v in norm_elec_ann_loads.items()]).flatten()\n",
    "all_norm_heat_ann_loads = np.array([v for k,v in norm_heat_ann_loads.items()]).flatten()"
   ]
  },
  {
   "cell_type": "code",
   "execution_count": null,
   "metadata": {},
   "outputs": [],
   "source": [
    "print(np.std(all_norm_elec_ann_loads))\n",
    "print(np.std(all_norm_heat_ann_loads))"
   ]
  },
  {
   "cell_type": "code",
   "execution_count": null,
   "metadata": {},
   "outputs": [],
   "source": [
    "fig, ax = plt.subplots()\n",
    "sns.kdeplot(all_norm_elec_ann_loads, ax=ax, c='k', cut=0, levels=200, label='Electricity')\n",
    "sns.kdeplot(all_norm_heat_ann_loads, ax=ax, c='b', cut=0, levels=200, label='Heat')\n",
    "plt.xlabel(\"Load variation\")\n",
    "plt.ylabel(\"Density\")\n",
    "ax.set_yticks([])\n",
    "ax.set_yticklabels([])\n",
    "plt.legend()\n",
    "#plt.savefig(os.path.join('plots',\"...\"), format=\"pdf\", bbox_inches=\"tight\")\n",
    "plt.show()"
   ]
  },
  {
   "cell_type": "markdown",
   "metadata": {},
   "source": [
    "Note this variation is over a 6 year period, so it will likely be greater over the 20 year assumed operational lifetime."
   ]
  },
  {
   "cell_type": "code",
   "execution_count": null,
   "metadata": {},
   "outputs": [],
   "source": []
  }
 ],
 "metadata": {
  "kernelspec": {
   "display_name": "BD-VOI",
   "language": "python",
   "name": "python3"
  },
  "language_info": {
   "codemirror_mode": {
    "name": "ipython",
    "version": 3
   },
   "file_extension": ".py",
   "mimetype": "text/x-python",
   "name": "python",
   "nbconvert_exporter": "python",
   "pygments_lexer": "ipython3",
   "version": "3.9.19"
  }
 },
 "nbformat": 4,
 "nbformat_minor": 2
}
