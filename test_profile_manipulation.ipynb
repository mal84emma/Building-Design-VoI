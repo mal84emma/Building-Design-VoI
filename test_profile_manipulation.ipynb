{
 "cells": [
  {
   "cell_type": "code",
   "execution_count": null,
   "metadata": {},
   "outputs": [],
   "source": [
    "import os\n",
    "import numpy as np\n",
    "import pandas as pd\n",
    "from utils.plotting import init_profile_fig, add_profile"
   ]
  },
  {
   "cell_type": "code",
   "execution_count": null,
   "metadata": {},
   "outputs": [],
   "source": [
    "dataset_dir = os.path.join('data','processed')\n",
    "building_fname_pattern = 'ly_{id}-{year}.csv'"
   ]
  },
  {
   "cell_type": "code",
   "execution_count": null,
   "metadata": {},
   "outputs": [],
   "source": [
    "building_id = 58\n",
    "year = 2015"
   ]
  },
  {
   "cell_type": "code",
   "execution_count": null,
   "metadata": {},
   "outputs": [],
   "source": [
    "# Load profile data.\n",
    "original_profile = pd.read_csv(os.path.join(dataset_dir, building_fname_pattern.format(id=building_id, year=year)),\n",
    "    usecols=['Equipment Electric Power [kWh]']\n",
    "    )['Equipment Electric Power [kWh]'].to_numpy()"
   ]
  },
  {
   "cell_type": "code",
   "execution_count": null,
   "metadata": {},
   "outputs": [],
   "source": [
    "print(np.mean(original_profile))\n",
    "print(np.std(original_profile)/np.mean(original_profile))\n",
    "print(np.max(original_profile))"
   ]
  },
  {
   "cell_type": "code",
   "execution_count": null,
   "metadata": {},
   "outputs": [],
   "source": [
    "fig = init_profile_fig(y_titles={'y1':'Building energy (kWh)'})\n",
    "fig = add_profile(fig, original_profile, name=f'Original')"
   ]
  },
  {
   "cell_type": "code",
   "execution_count": null,
   "metadata": {},
   "outputs": [],
   "source": [
    "def scale_profile(profile, mean, peak):\n",
    "    \"\"\"Scale energy usage profile to have a given mean and peak.\n",
    "    Method uses iterative scaling of peak and mean to achieve both.\n",
    "\n",
    "    Args:\n",
    "        profile (np.array): 1D array of energy usage profile.\n",
    "        mean (float): Mean load to scale to.\n",
    "        peak (float): Peak load to scale to.\n",
    "\n",
    "    Returns:\n",
    "        np.array: Scaled load profile.\n",
    "    \"\"\"\n",
    "\n",
    "    p = profile.copy()\n",
    "    p *= mean/np.mean(p)\n",
    "\n",
    "    while np.abs(np.max(p) - peak) >= 0.1/100*peak:\n",
    "        mu = np.mean(p)\n",
    "        p = np.where(p > mu, (p-mu)*peak/np.max(p)+mu, p)\n",
    "        p *= mean/np.mean(p)\n",
    "\n",
    "    return p"
   ]
  },
  {
   "cell_type": "code",
   "execution_count": null,
   "metadata": {},
   "outputs": [],
   "source": [
    "for i,(mean, peak) in enumerate([(50, 150), (100, 250), (150, 300)]):\n",
    "\n",
    "    scaled_profile = scale_profile(original_profile, mean, peak)\n",
    "\n",
    "    print(np.mean(scaled_profile))\n",
    "    print(np.std(scaled_profile)/np.mean(scaled_profile))\n",
    "    print(np.max(scaled_profile))\n",
    "\n",
    "    fig = add_profile(fig, scaled_profile, name=f'Scaled {i}')\n",
    "fig.write_html('test.html')\n",
    "fig.show()"
   ]
  },
  {
   "cell_type": "code",
   "execution_count": null,
   "metadata": {},
   "outputs": [],
   "source": []
  }
 ],
 "metadata": {
  "kernelspec": {
   "display_name": "BD-VOI",
   "language": "python",
   "name": "python3"
  },
  "language_info": {
   "codemirror_mode": {
    "name": "ipython",
    "version": 3
   },
   "file_extension": ".py",
   "mimetype": "text/x-python",
   "name": "python",
   "nbconvert_exporter": "python",
   "pygments_lexer": "ipython3",
   "version": "3.9.18"
  }
 },
 "nbformat": 4,
 "nbformat_minor": 2
}
