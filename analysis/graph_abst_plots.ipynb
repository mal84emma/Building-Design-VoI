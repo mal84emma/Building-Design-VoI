{
 "cells": [
  {
   "cell_type": "code",
   "execution_count": null,
   "metadata": {},
   "outputs": [],
   "source": [
    "# Hack to emulate running notebook from root directory.\n",
    "import os\n",
    "os.chdir('..')"
   ]
  },
  {
   "cell_type": "code",
   "execution_count": null,
   "metadata": {},
   "outputs": [],
   "source": [
    "import numpy as np\n",
    "import pandas as pd\n",
    "import matplotlib.pyplot as plt\n",
    "\n",
    "from utils import data_handling"
   ]
  },
  {
   "cell_type": "code",
   "execution_count": null,
   "metadata": {},
   "outputs": [],
   "source": [
    "# load data\n",
    "n_buildings = 1\n",
    "years = list(range(2012, 2018))\n",
    "building_ids = [0, 4, 8, 19, 25, 40, 58, 102, 104]\n",
    "\n",
    "dataset_dir = os.path.join('data','processed')\n",
    "building_fname_pattern = 'ly_{id}-{year}.csv'\n",
    "\n",
    "# Load prior scenario samples.\n",
    "scenarios_path = os.path.join('experiments','results',f'sampled_scenarios_{n_buildings}b.csv')\n",
    "scenarios,_ = data_handling.load_scenarios(scenarios_path)\n",
    "n_buildings = scenarios.shape[1]\n",
    "\n",
    "# Load profiles data.\n",
    "building_year_pairs = np.unique([tuple([int(v) for v in pair]) for pair in scenarios[:,0,:2]],axis=0)\n",
    "load_profiles = {\n",
    "    f'{building_id}-{year}': pd.read_csv(\n",
    "        os.path.join(dataset_dir, building_fname_pattern.format(id=building_id, year=year)),\n",
    "        usecols=['Equipment Electric Power [kWh]']\n",
    "        )['Equipment Electric Power [kWh]'].to_numpy()\\\n",
    "            for (building_id, year) in building_year_pairs\n",
    "}"
   ]
  },
  {
   "cell_type": "code",
   "execution_count": null,
   "metadata": {},
   "outputs": [],
   "source": [
    "# plot example profiles\n",
    "year = 2015\n",
    "for id in building_ids[1:5]:\n",
    "\n",
    "    fig,ax = plt.subplots(figsize=(15,5))\n",
    "    plt.plot(load_profiles[f'{id}-{year}'][1*30*24:7*30*24], label=f'{id}-{year}', color='xkcd:cerulean', lw=1)\n",
    "    plt.axis('off')\n",
    "    plt.ylim(0)\n",
    "    plt.margins(0,0)\n",
    "    plt.tight_layout()\n",
    "    plt.savefig(os.path.join('plots','graphical_abstract','example_profiles',f'profile_{id}-{year}.png'),bbox_inches='tight',dpi=300)\n",
    "    plt.show()"
   ]
  },
  {
   "cell_type": "code",
   "execution_count": null,
   "metadata": {},
   "outputs": [],
   "source": [
    "# plot profile construction\n",
    "year = 2015\n",
    "for id in building_ids[1:4]:\n",
    "    fig,ax = plt.subplots(figsize=(15,5))\n",
    "    profile  = load_profiles[f'{id}-{year}'][3*30*24:7*30*24]\n",
    "    plt.plot(profile, label=f'{id}-{year}', color='xkcd:cerulean', lw=1)\n",
    "    plt.hlines(np.mean(profile), 0, len(profile), color='xkcd:dark grey', linestyle='--', lw=2.5)\n",
    "    plt.annotate(\"\", xy=(24*7, 0), xytext=(24*7, np.mean(profile)), arrowprops=dict(arrowstyle=\"<->\", color='xkcd:dark grey', linewidth=2.5))\n",
    "    plt.hlines(np.max(profile), 0, len(profile), color='xkcd:dark grey', linestyle=':', lw=2.5)\n",
    "    plt.annotate(\"\", xy=(24*4.5, 0), xytext=(24*4.5, np.max(profile)), arrowprops=dict(arrowstyle=\"<->\", color='xkcd:dark grey', linewidth=2.5))\n",
    "    plt.axis('off')\n",
    "    plt.ylim(0)\n",
    "    plt.margins(0,0)\n",
    "    plt.tight_layout()\n",
    "    plt.savefig(os.path.join('plots','graphical_abstract','example_profiles',f'construction_{id}-{year}.png'),bbox_inches='tight',dpi=300)\n",
    "    plt.show()"
   ]
  },
  {
   "cell_type": "code",
   "execution_count": null,
   "metadata": {},
   "outputs": [],
   "source": [
    "from scenarioReducer import Fast_forward"
   ]
  },
  {
   "cell_type": "code",
   "execution_count": null,
   "metadata": {},
   "outputs": [],
   "source": [
    "# random scenario reduction plot\n",
    "n_samples = 30\n",
    "np.random.seed(1)\n",
    "xys = np.random.normal(0,1,(n_samples,2))\n",
    "\n",
    "probs = np.ones(shape=n_samples)/n_samples\n",
    "FFreducer = Fast_forward(xys.T, probs)\n",
    "reduced_scenario_stats, reduced_probs, reduced_indices = FFreducer.reduce(distance=1,n_scenarios=5)\n",
    "reduced_scenario_stats = reduced_scenario_stats.T\n",
    "\n",
    "fig,ax = plt.subplots(figsize=(8,5))\n",
    "plt.scatter(xys[:,0],xys[:,1],color='xkcd:dark grey',s=400,alpha=0.75,lw=0)\n",
    "plt.scatter(reduced_scenario_stats[:,0],reduced_scenario_stats[:,1],color='xkcd:cerulean',s=400,alpha=0.8,lw=0)\n",
    "\n",
    "plt.xticks([])\n",
    "plt.yticks([])\n",
    "ax.xaxis.set_ticks_position('none')\n",
    "ax.yaxis.set_ticks_position('none')\n",
    "for side in ['right','top']:\n",
    "        ax.spines[side].set_visible(False)\n",
    "ax.plot((1), (0), ls=\"\", marker=\">\", ms=8, color=\"k\",\n",
    "        transform=ax.transAxes, clip_on=False)\n",
    "ax.plot((0), (1), ls=\"\", marker=\"^\", ms=8, color=\"k\",\n",
    "        transform=ax.transAxes, clip_on=False)\n",
    "\n",
    "plt.tight_layout()\n",
    "plt.savefig(os.path.join('plots','graphical_abstract','scenario_reduction.png'),bbox_inches='tight',dpi=300)\n",
    "plt.show()"
   ]
  },
  {
   "cell_type": "code",
   "execution_count": null,
   "metadata": {},
   "outputs": [],
   "source": []
  }
 ],
 "metadata": {
  "kernelspec": {
   "display_name": "BD-VOI",
   "language": "python",
   "name": "python3"
  },
  "language_info": {
   "codemirror_mode": {
    "name": "ipython",
    "version": 3
   },
   "file_extension": ".py",
   "mimetype": "text/x-python",
   "name": "python",
   "nbconvert_exporter": "python",
   "pygments_lexer": "ipython3",
   "version": "3.9.18"
  }
 },
 "nbformat": 4,
 "nbformat_minor": 2
}
