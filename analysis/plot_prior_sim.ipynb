{
 "cells": [
  {
   "cell_type": "markdown",
   "metadata": {},
   "source": [
    "# Simluate operation of prior system design"
   ]
  },
  {
   "cell_type": "code",
   "execution_count": 1,
   "metadata": {},
   "outputs": [],
   "source": [
    "import os\n",
    "os.chdir('..') # move to the root directory (from dev)"
   ]
  },
  {
   "cell_type": "code",
   "execution_count": 2,
   "metadata": {},
   "outputs": [],
   "source": [
    "import json\n",
    "import numpy as np\n",
    "\n",
    "from utils import data_handling, generate_temp_building_files\n",
    "from utils.plotting import init_profile_fig, add_profile\n",
    "from utils import build_schema\n",
    "from energy_system import evaluate_system"
   ]
  },
  {
   "cell_type": "code",
   "execution_count": 3,
   "metadata": {},
   "outputs": [],
   "source": [
    "from experiments.configs.config import *"
   ]
  },
  {
   "cell_type": "markdown",
   "metadata": {},
   "source": [
    "Set parameters of case to investigate"
   ]
  },
  {
   "cell_type": "code",
   "execution_count": 4,
   "metadata": {},
   "outputs": [],
   "source": [
    "n_buildings = 5\n",
    "case = 'unconstr'"
   ]
  },
  {
   "cell_type": "markdown",
   "metadata": {},
   "source": [
    "Load sample prior scenarios"
   ]
  },
  {
   "cell_type": "code",
   "execution_count": 5,
   "metadata": {},
   "outputs": [],
   "source": [
    "scenarios_path = os.path.join(results_dir,f'sampled_scenarios_{n_buildings}b.csv')\n",
    "scenarios,_ = data_handling.load_scenarios(scenarios_path)"
   ]
  },
  {
   "cell_type": "markdown",
   "metadata": {},
   "source": [
    "Load prior system design"
   ]
  },
  {
   "cell_type": "code",
   "execution_count": 6,
   "metadata": {},
   "outputs": [],
   "source": [
    "prior_design_file = os.path.join(results_dir,'prior',f'{case}_{n_buildings}b_design_results.csv')\n",
    "prior_design = data_handling.load_design_results(prior_design_file)"
   ]
  },
  {
   "cell_type": "code",
   "execution_count": null,
   "metadata": {},
   "outputs": [],
   "source": [
    "print(prior_design)"
   ]
  },
  {
   "cell_type": "markdown",
   "metadata": {},
   "source": [
    "Retrieve scenario to simulate"
   ]
  },
  {
   "cell_type": "code",
   "execution_count": null,
   "metadata": {},
   "outputs": [],
   "source": [
    "sim_scenario = scenarios[42]\n",
    "print(sim_scenario)"
   ]
  },
  {
   "cell_type": "markdown",
   "metadata": {},
   "source": [
    "Build schema for scenario"
   ]
  },
  {
   "cell_type": "code",
   "execution_count": null,
   "metadata": {},
   "outputs": [],
   "source": [
    "with open(os.path.join('resources','base_system_params.json')) as jfile:\n",
    "        base_params = json.load(jfile)\n",
    "\n",
    "base_params['data_dir_path'] = dataset_dir\n",
    "\n",
    "# Set system design parameters\n",
    "base_params['battery_efficiencies'] = [base_params['base_battery_efficiency']]*n_buildings\n",
    "base_params.pop('base_battery_efficiency', None)\n",
    "base_params['battery_energy_capacities'] = prior_design['battery_capacities'].flatten()\n",
    "base_params['battery_power_capacities'] = [energy*cost_dict['battery_power_ratio'] for energy in prior_design['battery_capacities'].flatten()]\n",
    "base_params['pv_power_capacities'] = prior_design['solar_capacities'].flatten()\n",
    "\n",
    "# Get building files, generating temporary files if required (i.e. if scaling needed)\n",
    "load_files = generate_temp_building_files(sim_scenario, dataset_dir, solar_fname_pattern, building_fname_pattern, 0)\n",
    "\n",
    "# Build schema for each scenario\n",
    "params = base_params.copy()\n",
    "params['building_names'] = [f'TB{i}' for i in range(len(sim_scenario))]\n",
    "params['load_data_paths'] = [building_fname_pattern.format(id=int(b),year=int(y)) for (b,y,_,_) in sim_scenario]\n",
    "params['schema_name'] = f'example_prior_sim_schema'\n",
    "schema_path = build_schema(**params)"
   ]
  },
  {
   "cell_type": "markdown",
   "metadata": {},
   "source": [
    "Simulate system for selected scenario and create plot"
   ]
  },
  {
   "cell_type": "code",
   "execution_count": null,
   "metadata": {},
   "outputs": [],
   "source": [
    "eval_results = evaluate_system(\n",
    "    schema_path,\n",
    "    cost_dict,\n",
    "    prior_design['grid_con_capacity'],\n",
    "    design=True,\n",
    "    show_progress=True,\n",
    "    plot=True\n",
    ")"
   ]
  },
  {
   "cell_type": "code",
   "execution_count": 11,
   "metadata": {},
   "outputs": [],
   "source": [
    "# Clean up temp files\n",
    "os.remove(schema_path)\n",
    "for load_file in load_files:\n",
    "    if 'temp' in load_file:\n",
    "        os.remove(os.path.join(dataset_dir,load_file))"
   ]
  },
  {
   "cell_type": "code",
   "execution_count": null,
   "metadata": {},
   "outputs": [],
   "source": []
  }
 ],
 "metadata": {
  "kernelspec": {
   "display_name": "BD-VOI",
   "language": "python",
   "name": "python3"
  },
  "language_info": {
   "codemirror_mode": {
    "name": "ipython",
    "version": 3
   },
   "file_extension": ".py",
   "mimetype": "text/x-python",
   "name": "python",
   "nbconvert_exporter": "python",
   "pygments_lexer": "ipython3",
   "version": "3.9.18"
  }
 },
 "nbformat": 4,
 "nbformat_minor": 2
}
