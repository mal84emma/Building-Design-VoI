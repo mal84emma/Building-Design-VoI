{
 "cells": [
  {
   "cell_type": "markdown",
   "metadata": {},
   "source": [
    "# Check System Design and Simulation functions are behaving nicely"
   ]
  },
  {
   "cell_type": "code",
   "execution_count": null,
   "metadata": {},
   "outputs": [],
   "source": [
    "import os\n",
    "os.chdir('..') # move to the root directory (from dev)"
   ]
  },
  {
   "cell_type": "code",
   "execution_count": null,
   "metadata": {},
   "outputs": [],
   "source": [
    "import json\n",
    "import numpy as np\n",
    "\n",
    "from utils import data_handling\n",
    "from utils.plotting import init_profile_fig, add_profile\n",
    "from utils import build_schema, get_Gurobi_WLS_env\n",
    "from prob_models import prior_model\n",
    "from energy_system import design_system, evaluate_system"
   ]
  },
  {
   "cell_type": "code",
   "execution_count": null,
   "metadata": {},
   "outputs": [],
   "source": [
    "from experiments.expt_config import *"
   ]
  },
  {
   "cell_type": "code",
   "execution_count": null,
   "metadata": {},
   "outputs": [],
   "source": [
    "# sample scenarios\n",
    "n_buildings = 3\n",
    "num_reduced_scenarios = 5\n",
    "n_samples = 1000\n",
    "np.random.seed(0)\n",
    "scenarios = prior_model(n_buildings, n_samples, ids, years)"
   ]
  },
  {
   "cell_type": "code",
   "execution_count": null,
   "metadata": {},
   "outputs": [],
   "source": [
    "# set up Gurobi environment\n",
    "e = get_Gurobi_WLS_env()\n",
    "solver_kwargs = {'solver': 'GUROBI', 'env': e}"
   ]
  },
  {
   "cell_type": "code",
   "execution_count": null,
   "metadata": {},
   "outputs": [],
   "source": [
    "# design system\n",
    "design_results = design_system(\n",
    "    scenarios,\n",
    "    dataset_dir,\n",
    "    building_fname_pattern,\n",
    "    cost_dict,\n",
    "    solver_kwargs=solver_kwargs,\n",
    "    num_reduced_scenarios=num_reduced_scenarios,\n",
    "    show_progress=True\n",
    ")"
   ]
  },
  {
   "cell_type": "code",
   "execution_count": null,
   "metadata": {},
   "outputs": [],
   "source": [
    "fig = init_profile_fig(\n",
    "    y_titles={'y1': 'Building energy (kWh)', 'y2': 'Battery SoC (kWh)'}\n",
    "    )\n",
    "\n",
    "fig = add_profile(fig, design_results['e_grids'][0], name='Grid load')\n",
    "for b in range(n_buildings):\n",
    "    fig = add_profile(fig, design_results['battery_net_in_flows'][0][b], name=f'{b} battery load')\n",
    "    fig = add_profile(fig, design_results['SOC'][0][b], name=f'{b} SoC', yaxis='y2')\n",
    "\n",
    "fig.write_html(f'design_prof_plot.html')"
   ]
  },
  {
   "cell_type": "code",
   "execution_count": null,
   "metadata": {},
   "outputs": [],
   "source": [
    "# print design results\n",
    "for key in ['objective','objective_contrs','battery_capacities','solar_capacities','grid_con_capacity']:\n",
    "    print(design_results[key])"
   ]
  },
  {
   "cell_type": "code",
   "execution_count": null,
   "metadata": {},
   "outputs": [],
   "source": [
    "data_handling.save_design_results(design_results, 'test_design_results.csv')"
   ]
  },
  {
   "cell_type": "code",
   "execution_count": null,
   "metadata": {},
   "outputs": [],
   "source": [
    "design_results = data_handling.load_design_results('test_design_results.csv')"
   ]
  },
  {
   "cell_type": "code",
   "execution_count": null,
   "metadata": {},
   "outputs": [],
   "source": [
    "# set up system schema for first scenario\n",
    "sim_scenario = scenarios[0]\n",
    "sim_scenario = [[0,2013],[19,2012],[25,2014]]\n",
    "print(sim_scenario)\n",
    "\n",
    "building_fname_pattern = 'ly_{id}-{year}.csv'\n",
    "\n",
    "with open(os.path.join('resources','base_system_params.json')) as jfile:\n",
    "        base_params = json.load(jfile)\n",
    "\n",
    "base_params['data_dir_path'] = dataset_dir\n",
    "\n",
    "# Set system design parameters\n",
    "base_params['battery_efficiencies'] = [base_params['base_battery_efficiency']]*n_buildings\n",
    "base_params.pop('base_battery_efficiency', None)\n",
    "base_params['battery_energy_capacities'] = design_results['battery_capacities'].flatten()\n",
    "base_params['battery_power_capacities'] = [energy*cost_dict['battery_power_ratio'] for energy in design_results['battery_capacities'].flatten()]\n",
    "base_params['pv_power_capacities'] = design_results['solar_capacities'].flatten()\n",
    "\n",
    "# Build schema for each scenario\n",
    "params = base_params.copy()\n",
    "params['building_names'] = [f'TB{i}' for i in range(len(sim_scenario))]\n",
    "params['load_data_paths'] = [building_fname_pattern.format(id=b,year=y) for b,y in sim_scenario]\n",
    "params['schema_name'] = f'test_EVAL_schema'\n",
    "schema_path = build_schema(**params)"
   ]
  },
  {
   "cell_type": "code",
   "execution_count": null,
   "metadata": {},
   "outputs": [],
   "source": [
    "# simulate designed system for first scenario\n",
    "eval_results = evaluate_system(\n",
    "    schema_path,\n",
    "    cost_dict,\n",
    "    design_results['grid_con_capacity'],\n",
    "    design=True,\n",
    "    tau=48,\n",
    "    clip_level='m',\n",
    "    solver_kwargs={},\n",
    "    show_progress=True,\n",
    "    plot=True\n",
    ")"
   ]
  },
  {
   "cell_type": "code",
   "execution_count": null,
   "metadata": {},
   "outputs": [],
   "source": [
    "print(eval_results)"
   ]
  },
  {
   "cell_type": "code",
   "execution_count": null,
   "metadata": {},
   "outputs": [],
   "source": []
  }
 ],
 "metadata": {
  "kernelspec": {
   "display_name": "BD-VOI",
   "language": "python",
   "name": "python3"
  },
  "language_info": {
   "codemirror_mode": {
    "name": "ipython",
    "version": 3
   },
   "file_extension": ".py",
   "mimetype": "text/x-python",
   "name": "python",
   "nbconvert_exporter": "python",
   "pygments_lexer": "ipython3",
   "version": "3.9.19"
  }
 },
 "nbformat": 4,
 "nbformat_minor": 2
}
