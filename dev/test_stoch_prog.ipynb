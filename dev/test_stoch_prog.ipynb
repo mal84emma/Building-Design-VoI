{
 "cells": [
  {
   "cell_type": "markdown",
   "metadata": {},
   "source": [
    "# Test Stochastic Program implementation"
   ]
  },
  {
   "cell_type": "code",
   "execution_count": 1,
   "metadata": {},
   "outputs": [],
   "source": [
    "import os\n",
    "os.chdir('..') # move to the root directory (from dev)"
   ]
  },
  {
   "cell_type": "code",
   "execution_count": 2,
   "metadata": {},
   "outputs": [],
   "source": [
    "import numpy as np\n",
    "from utils import build_schema\n",
    "from linmodel import LinProgModel\n",
    "from citylearn.citylearn import CityLearnEnv"
   ]
  },
  {
   "cell_type": "code",
   "execution_count": 3,
   "metadata": {},
   "outputs": [],
   "source": [
    "# set up parameters\n",
    "dataset_dir = os.path.join('data','processed') # dataset directory\n",
    "\n",
    "base_params = {\n",
    "    'data_dir_path': os.path.join('data','processed'),\n",
    "    'weather_data_path': 'weather.csv',\n",
    "    'carbon_intensity_data_path': 'carbon_intensity.csv',\n",
    "    'pricing_data_path': 'pricing.csv',\n",
    "    'schema_name': 'schema_build_test',\n",
    "    'battery_efficiencies': [0.95,0.95,0.95],\n",
    "    'battery_energy_capacities': None,\n",
    "    'battery_power_capacities': None,\n",
    "    'pv_power_capacities': None\n",
    "}"
   ]
  },
  {
   "cell_type": "code",
   "execution_count": 4,
   "metadata": {},
   "outputs": [],
   "source": [
    "# set up LP costs\n",
    "cost_dict = {\n",
    "    'carbon': 5e-1,\n",
    "    'battery': 1000, #1e3,\n",
    "    'solar': 1000, #2e3,\n",
    "    'grid_capacity': 50e-2*365/0.95,\n",
    "    'grid_excess': 100e-2*365/0.95,\n",
    "    'opex_factor': 20,\n",
    "    'battery_power_ratio': 0.4\n",
    "}"
   ]
  },
  {
   "cell_type": "code",
   "execution_count": 5,
   "metadata": {},
   "outputs": [],
   "source": [
    "# set up load profiles\n",
    "building_year_sets = [\n",
    "    [(40,2015),(4,2012)],\n",
    "    [(40,2016),(4,2013)],\n",
    "    [(40,2014),(4,2015)],\n",
    "]"
   ]
  },
  {
   "cell_type": "code",
   "execution_count": 6,
   "metadata": {},
   "outputs": [],
   "source": [
    "# set up stochastic program\n",
    "envs = []\n",
    "\n",
    "for m, lys in enumerate(building_year_sets):\n",
    "    # build schema\n",
    "    params = base_params.copy()\n",
    "    params['building_names'] = [f'TB{i}' for i in range(len(lys))]\n",
    "    params['load_data_paths'] = [f'ly_{b}-{y}.csv' for b,y in lys]\n",
    "    params['schema_name'] = f'SP_test_schema_{m}'\n",
    "    schema_path = build_schema(**params)\n",
    "\n",
    "    # Initialise CityLearn environment object.\n",
    "    envs.append(CityLearnEnv(schema=schema_path))\n",
    "\n",
    "    if m == 0: # initialise lp object\n",
    "        lp = LinProgModel(env=envs[m])\n",
    "    else:\n",
    "        lp.add_env(env=envs[m])"
   ]
  },
  {
   "cell_type": "code",
   "execution_count": 7,
   "metadata": {},
   "outputs": [],
   "source": [
    "lp.set_time_data_from_envs(t_start=3360,tau=24*7*4)\n",
    "lp.generate_LP(cost_dict,design=True)\n",
    "lp.set_LP_parameters()"
   ]
  },
  {
   "cell_type": "code",
   "execution_count": 8,
   "metadata": {},
   "outputs": [
    {
     "name": "stdout",
     "output_type": "stream",
     "text": [
      "===============================================================================\n",
      "                                     CVXPY                                     \n",
      "                                    v1.1.15                                    \n",
      "===============================================================================\n",
      "(CVXPY) May 02 03:40:38 PM: Your problem has 14117 variables, 27 constraints, and 12102 parameters.\n",
      "(CVXPY) May 02 03:40:38 PM: It is compliant with the following grammars: DCP, DQCP\n",
      "(CVXPY) May 02 03:40:38 PM: CVXPY will first compile your problem; then, it will invoke a numerical solver to obtain a solution.\n",
      "-------------------------------------------------------------------------------\n",
      "                                  Compilation                                  \n",
      "-------------------------------------------------------------------------------\n",
      "(CVXPY) May 02 03:40:38 PM: Compiling problem (target solver=SCIPY).\n",
      "(CVXPY) May 02 03:40:38 PM: Reduction chain: Dcp2Cone -> CvxAttr2Constr -> ConeMatrixStuffing -> SCIPY\n",
      "(CVXPY) May 02 03:40:38 PM: Applying reduction Dcp2Cone\n",
      "(CVXPY) May 02 03:40:38 PM: Applying reduction CvxAttr2Constr\n",
      "(CVXPY) May 02 03:40:38 PM: Applying reduction ConeMatrixStuffing\n",
      "(CVXPY) May 02 03:41:44 PM: Applying reduction SCIPY\n",
      "(CVXPY) May 02 03:54:18 PM: Finished problem compilation (took 8.203e+02 seconds).\n",
      "(CVXPY) May 02 03:54:18 PM: (Subsequent compilations of this problem, using the same arguments, should take less time.)\n",
      "-------------------------------------------------------------------------------\n",
      "                                Numerical solver                               \n",
      "-------------------------------------------------------------------------------\n",
      "(CVXPY) May 02 03:54:18 PM: Invoking solver SCIPY  to obtain a solution.\n",
      "WARNING: Matrix packed vector contains 4047 |values| in [0, 0] less than 1e-09: ignored\n"
     ]
    },
    {
     "name": "stderr",
     "output_type": "stream",
     "text": [
      "/Users/mal84/opt/miniconda3/envs/BD-VOI/lib/python3.8/site-packages/cvxpy/reductions/solvers/conic_solvers/scipy_conif.py:99: DeprecationWarning: distutils Version classes are deprecated. Use packaging.version instead.\n",
      "  if (StrictVersion(scipy.__version__) < StrictVersion('1.6.1')):\n"
     ]
    },
    {
     "name": "stdout",
     "output_type": "stream",
     "text": [
      "Presolve : Reductions: rows 28221(-10094); columns 14117(-6); elements 76566(-10112)\n",
      "INFO   : Solving the presolved LP\n",
      "INFO   : Scaling: Improvement factor is 64.49 >= 1 so scale LP\n",
      "INFO   : Basis condition estimate of           1 is within the tolerance of 1e+14\n",
      "WARNING: Number of OMP threads available = 0 < 1 = Number of HiGHS threads to be used: Parallel performance will be less than anticipated\n",
      "INFO   : Using dual simplex solver - serial\n",
      "       Iteration        Objective     Infeasibilities num(sum)\n",
      "DuPh2          0     0.0000000000e+00 Pr: 8064(522415); Du: 0(2.92889e-09)\n",
      "DuPh2        455     3.8083408419e+03 Pr: 8020(487704); Du: 0(2.70424e-09)\n",
      "DuPh2        923     1.0185122299e+04 Pr: 7874(502225); Du: 0(1.37704e-08)\n",
      "DuPh2       1297     4.7138394678e+05 Pr: 7933(528617); Du: 0(9.52684e-09)\n",
      "DuPh2       1677     6.7775220752e+05 Pr: 7661(462880); Du: 0(9.44757e-09)\n",
      "DuPh2       2089     6.9486452333e+05 Pr: 7642(453558); Du: 0(4.0979e-08)\n",
      "DuPh2       2496     7.1445994053e+05 Pr: 7599(434608); Du: 0(9.2445e-09)\n",
      "DuPh2       2932     7.3527472245e+05 Pr: 7569(413286); Du: 0(9.13917e-09)\n",
      "DuPh2       3363     7.5672606075e+05 Pr: 7518(404086); Du: 0(7.95842e-08)\n",
      "DuPh2       3787     7.7910335048e+05 Pr: 7483(377937); Du: 0(1.83146e-09)\n",
      "DuPh2       4216     8.0395514980e+05 Pr: 7427(351587); Du: 0(1.80415e-09)\n",
      "DuPh2       4665     8.3628198625e+05 Pr: 7271(320305); Du: 0(1.78314e-09)\n",
      "DuPh2       5160     8.6949529569e+05 Pr: 6818(251010); Du: 0(2.65577e-08)\n",
      "DuPh2       5679     9.0034290951e+05 Pr: 6066(172723); Du: 0(1.69991e-09)\n",
      "DuPh2       6223     9.3820171904e+05 Pr: 5462(127428); Du: 0(1.59855e-09)\n",
      "DuPh2       6514     1.0508402813e+06 Pr: 6272(260537); Du: 0(1.51231e-09)\n",
      "DuPh2       7136     1.1392048185e+06 Pr: 6924(316940); Du: 0(1.98976e-07)\n",
      "DuPh2       7734     1.1815085671e+06 Pr: 6124(145492); Du: 0(2.15869e-07)\n",
      "DuPh2       8337     1.2742152765e+06 Pr: 10572(1.60509e+06); Du: 0(3.02846e-07)\n",
      "DuPh2       9128     1.3054481317e+06 Pr: 10595(7.30277e+06); Du: 0(6.75803e-07)\n",
      "DuPh2       9650     1.3339266916e+06 Pr: 10621(1.07292e+07); Du: 0(6.2776e-07)\n",
      "DuPh2      10149     1.3577364744e+06 Pr: 10348(747503); Du: 0(4.14565e-07)\n",
      "DuPh2      10561     1.3741975819e+06 Pr: 11243(1.35911e+06); Du: 0(3.99736e-07)\n",
      "DuPh2      11042     1.3946487426e+06 Pr: 10823(1.08005e+07); Du: 0(3.05373e-07)\n",
      "DuPh2      11430     1.4120042585e+06 Pr: 6394(124230); Du: 0(1.88813e-07)\n",
      "DuPh2      11844     1.4315338191e+06 Pr: 10959(2.06312e+07); Du: 0(2.38092e-07)\n",
      "DuPh2      12203     1.4474654426e+06 Pr: 14213(6.0783e+06); Du: 0(1.53465e-07)\n",
      "DuPh2      12563     1.4574487032e+06 Pr: 8526(222053); Du: 0(1.53452e-07)\n",
      "DuPh2      12921     1.4673133500e+06 Pr: 4969(130323); Du: 0(1.21204e-07)\n",
      "DuPh2      13311     1.4837193324e+06 Pr: 4635(137032); Du: 0(1.08051e-07)\n",
      "DuPh2      13642     1.4930719731e+06 Pr: 11244(7.42188e+06); Du: 0(1.08034e-07)\n",
      "DuPh2      14009     1.5000652012e+06 Pr: 9754(498915); Du: 0(3.88974e-08)\n",
      "DuPh2      14277     1.5077242828e+06 Pr: 6739(499912); Du: 0(1.70944e-07)\n",
      "DuPh2      14564     1.5140656873e+06 Pr: 5654(91403.5); Du: 0(4.07902e-08)\n",
      "DuPh2      14890     1.5219702154e+06 Pr: 4112(93117.9); Du: 0(9.16692e-08)\n",
      "DuPh2      15181     1.5284028915e+06 Pr: 5518(104321); Du: 0(4.02459e-08)\n",
      "DuPh2      15544     1.5373894200e+06 Pr: 9437(484703); Du: 0(4.02413e-08)\n",
      "DuPh2      15869     1.5470932148e+06 Pr: 9000(324227); Du: 0(4.02243e-08)\n",
      "DuPh2      16224     1.5548876523e+06 Pr: 4683(38842.2); Du: 0(4.02043e-08)\n",
      "DuPh2      16588     1.5700162040e+06 Pr: 8446(134702); Du: 0(7.08606e-08)\n",
      "DuPh2      16936     1.5747735023e+06 Pr: 8300(167264); Du: 0(7.0862e-08)\n",
      "DuPh2      17320     1.5782127219e+06 Pr: 6175(374388); Du: 0(1.6217e-07)\n",
      "DuPh2      17605     1.5814355007e+06 Pr: 6927(125412); Du: 0(1.20397e-07)\n",
      "DuPh2      17986     1.5853828526e+06 Pr: 4790(88727.8); Du: 0(7.66162e-08)\n",
      "DuPh2      18273     1.5867145789e+06 Pr: 3900(17775.4); Du: 0(1.12821e-07)\n",
      "DuPh2      18611     1.5884080860e+06 Pr: 2433(12902.6); Du: 0(2.91034e-08)\n",
      "DuPh2      18967     1.5899499750e+06 Pr: 1023(8779.05); Du: 0(2.91111e-08)\n",
      "DuPh2      19306     1.5909162867e+06 Pr: 2919(7903.18); Du: 0(2.91181e-08)\n",
      "DuPh2      19614     1.5915495144e+06 Pr: 1984(8103.33); Du: 0(2.91186e-08)\n",
      "DuPh2      19936     1.5922577145e+06 Pr: 1823(7133.26); Du: 0(5.50426e-08)\n",
      "       Iteration        Objective     Infeasibilities num(sum)\n",
      "DuPh2      20237     1.5927908509e+06 Pr: 1609(36364.7); Du: 0(4.04028e-08)\n",
      "DuPh2      20594     1.5934647000e+06 Pr: 7721(36312.1); Du: 0(1.44675e-08)\n",
      "DuPh2      20917     1.5940859551e+06 Pr: 1836(10538.6); Du: 0(2.9108e-08)\n",
      "DuPh2      21340     1.5952629844e+06 Pr: 7804(37738.3); Du: 0(2.90982e-08)\n",
      "DuPh2      21733     1.5960879375e+06 Pr: 1109(1172.3); Du: 0(2.9092e-08)\n",
      "DuPh2      22024     1.5962061472e+06 Pr: 1019(1208.19); Du: 0(2.90915e-08)\n",
      "DuPh2      22335     1.5963105840e+06 Pr: 1312(2295.52); Du: 0(2.9092e-08)\n",
      "DuPh2      22649     1.5964070783e+06 Pr: 845(1406.34); Du: 0(5.7107e-08)\n",
      "DuPh2      23081     1.5966179799e+06 Pr: 511(431.999); Du: 0(5.71076e-08)\n",
      "DuPh2      23360     1.5967012071e+06 Pr: 1341(7111.69); Du: 0(5.71069e-08)\n",
      "DuPh2      23698     1.5968484514e+06 Pr: 946(1577.92); Du: 0(1.5683e-07)\n",
      "DuPh2      24229     1.5972340026e+06 Pr: 0(0); Du: 0(2.90925e-08)\n",
      "DuPh2      24229     1.5972325294e+06 Pr: 0(0); Du: 0(1.13687e-13)\n",
      "INFO   : Dual simplex iterations [Ph1 0; Ph2 24229; Pr 0] Total 24229\n",
      "INFO   : Solving the original LP from the solution after postsolve\n",
      "INFO   : Scaling: Improvement factor is 77.71 >= 1 so scale LP\n",
      "INFO   : Basis condition estimate of   3.218e+09 is within the tolerance of 1e+14\n",
      "Postsolve  : 0\n",
      "Time       :     2.57\n",
      "Time Pre   :     0.01\n",
      "Time PreLP :     2.55\n",
      "Time PostLP:     0.01\n",
      "For LP                 : Presolve     0.01 (  0%): Solve presolved LP     2.55 ( 99%): Solve original LP     0.01 (  0%)\n",
      "Solver terminated with message: Optimization terminated successfully.\n",
      "-------------------------------------------------------------------------------\n",
      "                                    Summary                                    \n",
      "-------------------------------------------------------------------------------\n",
      "(CVXPY) May 02 03:54:21 PM: Problem status: optimal\n",
      "(CVXPY) May 02 03:54:21 PM: Optimal value: 1.597e+06\n",
      "(CVXPY) May 02 03:54:21 PM: Compilation took 8.203e+02 seconds\n",
      "(CVXPY) May 02 03:54:21 PM: Solver (including time spent in interface) took 2.589e+00 seconds\n"
     ]
    }
   ],
   "source": [
    "lp_results = lp.solve_LP(verbose=True,ignore_dpp=True)"
   ]
  },
  {
   "cell_type": "code",
   "execution_count": 9,
   "metadata": {},
   "outputs": [
    {
     "name": "stdout",
     "output_type": "stream",
     "text": [
      "1597232.5294267158\n",
      "[332724.6975529466, 98288.6860993209, 55811.13146790348, 705205.4350518563, 31717.002736893097, 373485.5765177954]\n",
      "[[-0.        ]\n",
      " [31.71700274]]\n",
      "[[149.68145955]\n",
      " [223.80411697]]\n",
      "183.54662008199\n"
     ]
    }
   ],
   "source": [
    "print(lp_results['objective'])\n",
    "print(lp_results['objective_contrs'])\n",
    "print(lp_results['battery_capacities'])\n",
    "print(lp_results['solar_capacities'])\n",
    "print(lp_results['grid_capacity'])"
   ]
  },
  {
   "cell_type": "code",
   "execution_count": 10,
   "metadata": {},
   "outputs": [
    {
     "name": "stdout",
     "output_type": "stream",
     "text": [
      "205.33589743589746\n",
      "183.54662008199006\n",
      "183.54662008199\n"
     ]
    }
   ],
   "source": [
    "for m in range(len(envs)):\n",
    "    print(np.max(lp_results['e_grids'][m]))"
   ]
  },
  {
   "cell_type": "code",
   "execution_count": null,
   "metadata": {},
   "outputs": [],
   "source": []
  }
 ],
 "metadata": {
  "kernelspec": {
   "display_name": "BD-VOI",
   "language": "python",
   "name": "python3"
  },
  "language_info": {
   "codemirror_mode": {
    "name": "ipython",
    "version": 3
   },
   "file_extension": ".py",
   "mimetype": "text/x-python",
   "name": "python",
   "nbconvert_exporter": "python",
   "pygments_lexer": "ipython3",
   "version": "3.8.19"
  }
 },
 "nbformat": 4,
 "nbformat_minor": 2
}
