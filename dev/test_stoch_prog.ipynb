{
 "cells": [
  {
   "cell_type": "markdown",
   "metadata": {},
   "source": [
    "# Test Stochastic Program implementation"
   ]
  },
  {
   "cell_type": "code",
   "execution_count": 1,
   "metadata": {},
   "outputs": [],
   "source": [
    "import os\n",
    "os.chdir('..') # move to the root directory (from dev)"
   ]
  },
  {
   "cell_type": "code",
   "execution_count": 2,
   "metadata": {},
   "outputs": [],
   "source": [
    "import numpy as np\n",
    "from utils import build_schema\n",
    "from linmodel import LinProgModel\n",
    "from citylearn.citylearn import CityLearnEnv"
   ]
  },
  {
   "cell_type": "code",
   "execution_count": 3,
   "metadata": {},
   "outputs": [],
   "source": [
    "# set up parameters\n",
    "dataset_dir = os.path.join('data','processed') # dataset directory\n",
    "\n",
    "base_params = {\n",
    "    'data_dir_path': os.path.join('data','processed'),\n",
    "    'weather_data_path': 'weather.csv',\n",
    "    'carbon_intensity_data_path': 'carbon_intensity.csv',\n",
    "    'pricing_data_path': 'pricing.csv',\n",
    "    'schema_name': 'schema_build_test',\n",
    "    'battery_efficiencies': [0.95,0.95,0.95],\n",
    "    'battery_energy_capacities': None,\n",
    "    'battery_power_capacities': None,\n",
    "    'pv_power_capacities': None\n",
    "}"
   ]
  },
  {
   "cell_type": "code",
   "execution_count": 4,
   "metadata": {},
   "outputs": [],
   "source": [
    "# set up LP costs\n",
    "cost_dict = {\n",
    "    'carbon': 1.0, #5e-1,\n",
    "    'battery': 1e3, #1e3,\n",
    "    'solar': 1e3, #2e3,\n",
    "    'grid_capacity': 5e-2*365/0.95,\n",
    "    'grid_excess': 10e-2*365/0.95,\n",
    "    #'opex_factor': 20,\n",
    "    'battery_power_ratio': 0.4\n",
    "}"
   ]
  },
  {
   "cell_type": "code",
   "execution_count": 5,
   "metadata": {},
   "outputs": [],
   "source": [
    "# set up load profiles\n",
    "building_year_sets = [\n",
    "    [(40,2015),(4,2012)],\n",
    "    [(40,2016),(4,2013)],\n",
    "    [(40,2014),(4,2015)],\n",
    "]"
   ]
  },
  {
   "cell_type": "code",
   "execution_count": 6,
   "metadata": {},
   "outputs": [],
   "source": [
    "# set up stochastic program\n",
    "envs = []\n",
    "\n",
    "for m, lys in enumerate(building_year_sets):\n",
    "    # build schema\n",
    "    params = base_params.copy()\n",
    "    params['building_names'] = [f'TB{i}' for i in range(len(lys))]\n",
    "    params['load_data_paths'] = [f'ly_{b}-{y}.csv' for b,y in lys]\n",
    "    params['schema_name'] = f'SP_test_schema_{m}'\n",
    "    schema_path = build_schema(**params)\n",
    "\n",
    "    # Initialise CityLearn environment object.\n",
    "    envs.append(CityLearnEnv(schema=schema_path))\n",
    "\n",
    "    if m == 0: # initialise lp object\n",
    "        lp = LinProgModel(env=envs[m])\n",
    "    else:\n",
    "        lp.add_env(env=envs[m])"
   ]
  },
  {
   "cell_type": "code",
   "execution_count": 7,
   "metadata": {},
   "outputs": [],
   "source": [
    "sim_duration = 24*7*2 # 2 weeks of hours\n",
    "cost_dict['opex_factor'] = 20*365*24/sim_duration # 20 year op. lifetime\n",
    "lp.set_time_data_from_envs(t_start=3360,tau=sim_duration) # try summer time\n",
    "lp.generate_LP(cost_dict,design=True)\n",
    "lp.set_LP_parameters()"
   ]
  },
  {
   "cell_type": "code",
   "execution_count": 8,
   "metadata": {},
   "outputs": [
    {
     "name": "stdout",
     "output_type": "stream",
     "text": [
      "===============================================================================\n",
      "                                     CVXPY                                     \n",
      "                                    v1.1.15                                    \n",
      "===============================================================================\n",
      "(CVXPY) May 02 03:58:49 PM: Your problem has 7061 variables, 27 constraints, and 6054 parameters.\n",
      "(CVXPY) May 02 03:58:49 PM: It is compliant with the following grammars: DCP, DQCP\n",
      "(CVXPY) May 02 03:58:49 PM: CVXPY will first compile your problem; then, it will invoke a numerical solver to obtain a solution.\n",
      "-------------------------------------------------------------------------------\n",
      "                                  Compilation                                  \n",
      "-------------------------------------------------------------------------------\n",
      "(CVXPY) May 02 03:58:49 PM: Compiling problem (target solver=SCIPY).\n",
      "(CVXPY) May 02 03:58:49 PM: Reduction chain: Dcp2Cone -> CvxAttr2Constr -> ConeMatrixStuffing -> SCIPY\n",
      "(CVXPY) May 02 03:58:49 PM: Applying reduction Dcp2Cone\n",
      "(CVXPY) May 02 03:58:49 PM: Applying reduction CvxAttr2Constr\n",
      "(CVXPY) May 02 03:58:49 PM: Applying reduction ConeMatrixStuffing\n",
      "(CVXPY) May 02 03:59:00 PM: Applying reduction SCIPY\n",
      "(CVXPY) May 02 04:00:35 PM: Finished problem compilation (took 1.061e+02 seconds).\n",
      "(CVXPY) May 02 04:00:35 PM: (Subsequent compilations of this problem, using the same arguments, should take less time.)\n",
      "-------------------------------------------------------------------------------\n",
      "                                Numerical solver                               \n",
      "-------------------------------------------------------------------------------\n",
      "(CVXPY) May 02 04:00:35 PM: Invoking solver SCIPY  to obtain a solution.\n",
      "WARNING: Matrix packed vector contains 2028 |values| in [0, 0] less than 1e-09: ignored\n",
      "Presolve : Reductions: rows 14109(-5054); columns 7061(-6); elements 38265(-5072)\n",
      "INFO   : Solving the presolved LP\n",
      "INFO   : Scaling: Improvement factor is 29.27 >= 1 so scale LP\n",
      "INFO   : Basis condition estimate of           1 is within the tolerance of 1e+14\n",
      "WARNING: Number of OMP threads available = 0 < 1 = Number of HiGHS threads to be used: Parallel performance will be less than anticipated\n",
      "INFO   : Using dual simplex solver - serial\n",
      "       Iteration        Objective     Infeasibilities num(sum)\n",
      "DuPh2          0     0.0000000000e+00 Pr: 4032(306438); Du: 0(1.48711e-09)\n",
      "DuPh2        315     1.2041323419e+05 Pr: 3916(258505); Du: 0(1.32135e-09)\n",
      "DuPh2        515     7.5931958322e+05 Pr: 4098(601962); Du: 0(2.52554e-08)\n",
      "DuPh2        696     1.2165763881e+06 Pr: 4078(847099); Du: 0(1.17944e-09)\n",
      "DuPh2        938     1.5971577254e+06 Pr: 5404(645752); Du: 0(2.21995e-07)\n",
      "DuPh2       1154     1.8994233062e+06 Pr: 5619(721180); Du: 0(2.7254e-07)\n",
      "DuPh2       1428     2.7469005455e+06 Pr: 473"
     ]
    },
    {
     "name": "stderr",
     "output_type": "stream",
     "text": [
      "/Users/mal84/opt/miniconda3/envs/BD-VOI/lib/python3.8/site-packages/cvxpy/reductions/solvers/conic_solvers/scipy_conif.py:99: DeprecationWarning: distutils Version classes are deprecated. Use packaging.version instead.\n",
      "  if (StrictVersion(scipy.__version__) < StrictVersion('1.6.1')):\n"
     ]
    },
    {
     "name": "stdout",
     "output_type": "stream",
     "text": [
      "8(2.73775e+06); Du: 0(2.45851e-07)\n",
      "DuPh2       1764     2.9282488034e+06 Pr: 5812(4.6554e+06); Du: 0(2.91854e-07)\n",
      "DuPh2       1996     3.0812833378e+06 Pr: 4331(6.30348e+06); Du: 0(5.25014e-07)\n",
      "DuPh2       2331     3.6754461890e+06 Pr: 3493(646306); Du: 0(6.31604e-07)\n",
      "DuPh2       2927     3.7987506042e+06 Pr: 4305(812500); Du: 0(9.86359e-07)\n",
      "DuPh2       3352     4.0817425759e+06 Pr: 2562(1.00582e+06); Du: 0(8.95473e-07)\n",
      "DuPh2       3697     4.2508303005e+06 Pr: 2098(165802); Du: 0(4.94187e-07)\n",
      "DuPh2       4087     4.6731983688e+06 Pr: 1379(46631.3); Du: 0(5.61725e-07)\n",
      "DuPh2       4478     4.9761069124e+06 Pr: 4790(2.19911e+06); Du: 0(4.84322e-07)\n",
      "DuPh2       4814     5.1121371570e+06 Pr: 1418(128496); Du: 0(2.34111e-07)\n",
      "DuPh2       5081     5.1742505756e+06 Pr: 2170(863034); Du: 0(2.75867e-07)\n",
      "DuPh2       5481     5.2421777474e+06 Pr: 1619(268909); Du: 0(1.62783e-07)\n",
      "DuPh2       5809     5.2715256299e+06 Pr: 263(8160.13); Du: 0(1.72414e-07)\n",
      "DuPh2       6039     5.2804315094e+06 Pr: 0(2.50999e-12); Du: 0(8.66413e-08)\n",
      "DuPh2       6039     5.2804276743e+06 Pr: 0(2.50999e-12)\n",
      "INFO   : Dual simplex iterations [Ph1 0; Ph2 6039; Pr 0] Total 6039\n",
      "INFO   : Solving the original LP from the solution after postsolve\n",
      "INFO   : Scaling: Improvement factor is 38.45 >= 1 so scale LP\n",
      "INFO   : Basis condition estimate of   4.577e+07 is within the tolerance of 1e+14\n",
      "Postsolve  : 0\n",
      "Time       :     0.35\n",
      "Time Pre   :     0.00\n",
      "Time PreLP :     0.34\n",
      "Time PostLP:     0.01\n",
      "For LP                 : Presolve     0.00 (  0%): Solve presolved LP     0.34 ( 96%): Solve original LP     0.01 (  1%)\n",
      "Solver terminated with message: Optimization terminated successfully.\n",
      "-------------------------------------------------------------------------------\n",
      "                                    Summary                                    \n",
      "-------------------------------------------------------------------------------\n",
      "(CVXPY) May 02 04:00:36 PM: Problem status: optimal\n",
      "(CVXPY) May 02 04:00:36 PM: Optimal value: 5.280e+06\n",
      "(CVXPY) May 02 04:00:36 PM: Compilation took 1.061e+02 seconds\n",
      "(CVXPY) May 02 04:00:36 PM: Solver (including time spent in interface) took 3.596e-01 seconds\n"
     ]
    }
   ],
   "source": [
    "lp_results = lp.solve_LP(verbose=True,ignore_dpp=True)"
   ]
  },
  {
   "cell_type": "code",
   "execution_count": 9,
   "metadata": {},
   "outputs": [
    {
     "name": "stdout",
     "output_type": "stream",
     "text": [
      "5280427.674319058\n",
      "[501297.20108079666, 118122.54436050732, 364470.6798504302, 1510126.6821715306, 1592636.521652997, 1193774.0452027956]\n",
      "[[965.16717859]\n",
      " [627.46934307]]\n",
      "[[505.72956195]\n",
      " [688.04448325]]\n",
      "150.75762711864405\n"
     ]
    }
   ],
   "source": [
    "print(lp_results['objective'])\n",
    "print(lp_results['objective_contrs'])\n",
    "print(lp_results['battery_capacities'])\n",
    "print(lp_results['solar_capacities'])\n",
    "print(lp_results['grid_capacity'])"
   ]
  },
  {
   "cell_type": "code",
   "execution_count": 10,
   "metadata": {},
   "outputs": [
    {
     "name": "stdout",
     "output_type": "stream",
     "text": [
      "205.33589743589744\n",
      "150.75762711864405\n",
      "150.75762711864405\n"
     ]
    }
   ],
   "source": [
    "for m in range(len(envs)):\n",
    "    print(np.max(lp_results['e_grids'][m]))"
   ]
  },
  {
   "cell_type": "code",
   "execution_count": null,
   "metadata": {},
   "outputs": [],
   "source": []
  }
 ],
 "metadata": {
  "kernelspec": {
   "display_name": "BD-VOI",
   "language": "python",
   "name": "python3"
  },
  "language_info": {
   "codemirror_mode": {
    "name": "ipython",
    "version": 3
   },
   "file_extension": ".py",
   "mimetype": "text/x-python",
   "name": "python",
   "nbconvert_exporter": "python",
   "pygments_lexer": "ipython3",
   "version": "3.8.19"
  }
 },
 "nbformat": 4,
 "nbformat_minor": 2
}
